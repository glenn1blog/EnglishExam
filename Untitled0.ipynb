{
  "nbformat": 4,
  "nbformat_minor": 0,
  "metadata": {
    "colab": {
      "name": "Untitled0.ipynb",
      "provenance": [],
      "collapsed_sections": [],
      "authorship_tag": "ABX9TyO/77SswvN5L6SL1vxmyZpo",
      "include_colab_link": true
    },
    "kernelspec": {
      "name": "python3",
      "display_name": "Python 3"
    },
    "language_info": {
      "name": "python"
    }
  },
  "cells": [
    {
      "cell_type": "markdown",
      "metadata": {
        "id": "view-in-github",
        "colab_type": "text"
      },
      "source": [
        "<a href=\"https://colab.research.google.com/github/glenn1blog/EnglishExam/blob/main/Untitled0.ipynb\" target=\"_parent\"><img src=\"https://colab.research.google.com/assets/colab-badge.svg\" alt=\"Open In Colab\"/></a>"
      ]
    },
    {
      "cell_type": "code",
      "metadata": {
        "colab": {
          "base_uri": "https://localhost:8080/"
        },
        "id": "YTdKeE3Pxjik",
        "outputId": "8742f413-6154-4283-9a09-90e218e94b48"
      },
      "source": [
        "import requests \n",
        "from bs4 import BeautifulSoup\n",
        "\n",
        "if __name__ == '__main__':\n",
        "    url = \"https://itouch.cycu.edu.tw/active_project/cycu2100h_18/case_09/validate_id.jsp?id=10644215\"\n",
        "\n",
        "    cookie = '''ITOUCHCOOKIE=30dfa3db4c6d1482370233f432cf89b39a806e90e501a36e376ca742a50a3579b3c70f46; _ga=GA1.3.1269263312.1620634041; _gid=GA1.3.1738652938.1620634041; JSESSIONID=147C5ED25CB5D4D2BEE8864EC836773A'''\n",
        "    \n",
        "    header = {\n",
        "    'User-Agent': 'Mozilla/5.0 (iPhone; CPU iPhone OS 13_2_3 like Mac OS X) AppleWebKit/605.1.15 (KHTML, like Gecko) Version/13.0.3 Mobile/15E148 Safari/604.1',\n",
        "    'Connection': 'keep-alive',\n",
        "    'accept': 'text/html,application/xhtml+xml,application/xml;q=0.9,image/avif,image/webp,image/apng,*/*;q=0.8,application/signed-exchange;v=b3;q=0.9',\n",
        "    'Cookie': cookie}\n",
        "    for i in range(100):\n",
        "      url = 'https://itouch.cycu.edu.tw/active_project/cycu2100h_18/case_09/validate_id.jsp?id=106442'+ str(i).rjust(2,'0')\n",
        "      html_doc = requests.get(url,headers=header).text\n",
        "      soup = BeautifulSoup(html_doc,'lxml')\n",
        "      if soup.find('input', {'name': 'STMD_ID'}).get('value') == \"null\":\n",
        "        continue\n",
        "      print(soup.find('input', {'name': 'STMD_ID'}).get('value') + \" \" + soup.find('input', {'name': 'STMD_NAME'}).get('value'))\n",
        "      all = i\n",
        "    print(all)"
      ],
      "execution_count": 29,
      "outputs": [
        {
          "output_type": "stream",
          "text": [
            "10644201 魏奕辰\n",
            "10644202 黃聖育\n",
            "10644203 柯君儒\n",
            "10644204 陳祥禎\n",
            "10644205 徐筱雯\n",
            "10644206 杭冠妤\n",
            "10644208 胡嘉軒\n",
            "10644209 馮彥榮\n",
            "10644210 儲韶儀\n",
            "10644211 鄭丞峻\n",
            "10644212 葉馨蓮\n",
            "10644213 許柏聰\n",
            "10644214 陳哲頎\n",
            "10644215 蘇韋綸\n",
            "10644216 陳啟睿\n",
            "10644217 簡于庭\n",
            "10644218 董　謙\n",
            "10644219 張有淇\n",
            "10644220 楊泓益\n",
            "10644221 蘇姸寧\n",
            "10644222 林靖豐\n",
            "10644223 陳佳儀\n",
            "10644224 盧怡臻\n",
            "10644225 施伯霖\n",
            "10644226 王筱瑜\n",
            "10644227 周柏辰\n",
            "10644228 陳文成\n",
            "10644229 曾宇辰\n",
            "10644230 鍾昌桓\n",
            "10644231 王志翔\n",
            "10644232 丘翼銘\n",
            "10644233 許子謙\n",
            "10644234 陳冠廷\n",
            "10644235 曾慶瑜\n",
            "10644236 吳兆崴\n",
            "10644237 董建霖\n",
            "10644238 徐翊甄\n",
            "10644239 古東晨\n",
            "10644240 吳明慧\n",
            "10644241 林沅慶\n",
            "10644242 陳品如\n",
            "10644244 陳又瑄\n",
            "10644245 江冠潔\n",
            "10644246 蔡羽農\n",
            "10644247 黃昱齊\n",
            "10644248 呂佩諭\n",
            "10644249 杜得瑋\n",
            "10644250 巫秉洋\n",
            "10644251 林芷安\n",
            "10644252 張雅涵\n",
            "10644253 張甄玲\n",
            "10644254 楊鎧溶\n",
            "10644255 鄭昀慈\n",
            "10644256 譚曾瑄\n",
            "10644257 葉宇婕\n",
            "10644258 程子昀\n",
            "10644270 丁釗懷\n",
            "10644273 金奎植\n",
            "10644275 梁秋蓮\n",
            "75\n"
          ],
          "name": "stdout"
        }
      ]
    }
  ]
}